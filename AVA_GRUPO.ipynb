{
 "cells": [
  {
   "cell_type": "markdown",
   "id": "799ae1a5",
   "metadata": {},
   "source": [
    "# AVA_GRUPO\n",
    "### Exercício 1"
   ]
  },
  {
   "cell_type": "code",
   "execution_count": 1,
   "id": "a88449f2",
   "metadata": {},
   "outputs": [
    {
     "name": "stdout",
     "output_type": "stream",
     "text": [
      "0.12.2\n",
      "<class 'pandas.core.frame.DataFrame'>\n",
      "RangeIndex: 53940 entries, 0 to 53939\n",
      "Data columns (total 10 columns):\n",
      " #   Column   Non-Null Count  Dtype   \n",
      "---  ------   --------------  -----   \n",
      " 0   carat    53940 non-null  float64 \n",
      " 1   cut      53940 non-null  category\n",
      " 2   color    53940 non-null  category\n",
      " 3   clarity  53940 non-null  category\n",
      " 4   depth    53940 non-null  float64 \n",
      " 5   table    53940 non-null  float64 \n",
      " 6   price    53940 non-null  int64   \n",
      " 7   x        53940 non-null  float64 \n",
      " 8   y        53940 non-null  float64 \n",
      " 9   z        53940 non-null  float64 \n",
      "dtypes: category(3), float64(6), int64(1)\n",
      "memory usage: 3.0 MB\n",
      "   carat      cut color clarity  depth  table  price     x     y     z\n",
      "0   0.23    Ideal     E     SI2   61.5   55.0    326  3.95  3.98  2.43\n",
      "1   0.21  Premium     E     SI1   59.8   61.0    326  3.89  3.84  2.31\n",
      "2   0.23     Good     E     VS1   56.9   65.0    327  4.05  4.07  2.31\n",
      "3   0.29  Premium     I     VS2   62.4   58.0    334  4.20  4.23  2.63\n",
      "4   0.31     Good     J     SI2   63.3   58.0    335  4.34  4.35  2.75\n"
     ]
    }
   ],
   "source": [
    "import seaborn as sns\n",
    "print(sns.__version__)\n",
    "\n",
    "diamonds = sns.load_dataset('diamonds')\n",
    "diamonds.info()\n",
    "\n",
    "print(diamonds.head())"
   ]
  },
  {
   "cell_type": "code",
   "execution_count": 1,
   "id": "acbcb281",
   "metadata": {},
   "outputs": [
    {
     "name": "stdout",
     "output_type": "stream",
     "text": [
      "   carat      cut color clarity  depth  table  price     x     y     z  \\\n",
      "0   0.23    Ideal     E     SI2   61.5   55.0    326  3.95  3.98  2.43   \n",
      "1   0.21  Premium     E     SI1   59.8   61.0    326  3.89  3.84  2.31   \n",
      "2   0.23     Good     E     VS1   56.9   65.0    327  4.05  4.07  2.31   \n",
      "3   0.29  Premium     I     VS2   62.4   58.0    334  4.20  4.23  2.63   \n",
      "4   0.31     Good     J     SI2   63.3   58.0    335  4.34  4.35  2.75   \n",
      "\n",
      "      volume  price_per_mm3  \n",
      "0  38.202030       8.533578  \n",
      "1  34.505856       9.447672  \n",
      "2  38.076885       8.587887  \n",
      "3  46.724580       7.148272  \n",
      "4  51.917250       6.452576  \n"
     ]
    }
   ],
   "source": [
    "import seaborn as sns\n",
    "\n",
    "# Carrega o conjunto de dados diamonds do Seaborn\n",
    "diamonds = sns.load_dataset('diamonds')\n",
    "\n",
    "# Calcula o volume aproximado para cada diamante\n",
    "diamonds['volume'] = diamonds['x'] * diamonds['y'] * diamonds['z']\n",
    "\n",
    "# Adiciona uma nova coluna para o preço por milímetro cúbico\n",
    "diamonds['price_per_mm3'] = diamonds['price'] / diamonds['volume']\n",
    "\n",
    "# Imprime as primeiras linhas do DataFrame com as novas colunas\n",
    "print(diamonds.head())"
   ]
  },
  {
   "cell_type": "markdown",
   "id": "c0136159",
   "metadata": {},
   "source": [
    "# AVA_GRUPO\n",
    "### Exercício 2"
   ]
  },
  {
   "cell_type": "code",
   "execution_count": 3,
   "id": "3fa64cd3",
   "metadata": {},
   "outputs": [
    {
     "name": "stdout",
     "output_type": "stream",
     "text": [
      "cut\n",
      "Ideal        3457.541970\n",
      "Premium      4584.257704\n",
      "Very Good    3981.759891\n",
      "Good         3928.864452\n",
      "Fair         4358.757764\n",
      "Name: price, dtype: float64\n"
     ]
    }
   ],
   "source": [
    "import seaborn as sns\n",
    "import pandas as pd\n",
    "\n",
    "# Carrega o conjunto de dados diamonds do Seaborn\n",
    "diamonds = sns.load_dataset('diamonds')\n",
    "\n",
    "# Calcula o preço médio para cada tipo de corte\n",
    "preco_medio_por_corte = diamonds.groupby('cut')['price'].mean()\n",
    "\n",
    "# Converte o resultado para um Series\n",
    "preco_medio_series = pd.Series(preco_medio_por_corte)\n",
    "\n",
    "# Imprime o Series resultante\n",
    "print(preco_medio_series)"
   ]
  },
  {
   "cell_type": "markdown",
   "id": "43e6e706",
   "metadata": {},
   "source": [
    "# AVA_GRUPO\n",
    "### Exercício 3\n",
    "#### Quantos alunos de sexo masculino e feminino tem quem cada dataset."
   ]
  },
  {
   "cell_type": "code",
   "execution_count": 4,
   "id": "a4a7d742",
   "metadata": {},
   "outputs": [
    {
     "name": "stdout",
     "output_type": "stream",
     "text": [
      "Número de Alunos por Sexo em Matemática:\n",
      " F    208\n",
      "M    187\n",
      "Name: sex, dtype: int64\n",
      "\n",
      "Número de Alunos por Sexo em Português:\n",
      " F    383\n",
      "M    266\n",
      "Name: sex, dtype: int64\n"
     ]
    }
   ],
   "source": [
    "import pandas as pd\n",
    "\n",
    "# Importando datasets\n",
    "math = pd.read_csv('./student_math_clean.csv')\n",
    "port = pd.read_csv('./student_portuguese_clean.csv')\n",
    "\n",
    "# Contando o número de alunos por sexo em matemática\n",
    "contagem_sexo_math = math['sex'].value_counts()\n",
    "print(\"Número de Alunos por Sexo em Matemática:\\n\", contagem_sexo_math)\n",
    "\n",
    "# Contando o número de alunos por sexo em português\n",
    "contagem_sexo_port = port['sex'].value_counts()\n",
    "print(\"\\nNúmero de Alunos por Sexo em Português:\\n\", contagem_sexo_port)\n"
   ]
  },
  {
   "cell_type": "markdown",
   "id": "79164579",
   "metadata": {},
   "source": [
    "# AVA_GRUPO\n",
    "### Exercício 3\n",
    "#### Qual a média final dos alunos em cada disciplina."
   ]
  },
  {
   "cell_type": "code",
   "execution_count": null,
   "id": "b64d0ccf",
   "metadata": {},
   "outputs": [],
   "source": [
    "import pandas as pd\n",
    "\n",
    "# Importando datasets\n",
    "math = pd.read_csv('./student_math_clean.csv')\n",
    "port = pd.read_csv('./student_portuguese_clean.csv')\n",
    "\n",
    "# Calculando a média final dos alunos em matemática\n",
    "media_final_math = math['final_grade'].mean()\n",
    "print(\"Média Final em Matemática:\", media_final_math)\n",
    "\n",
    "# Calculando a média final dos alunos em português\n",
    "media_final_port = port['final_grade'].mean()\n",
    "print(\"Média Final em Português:\", media_final_port)\n"
   ]
  },
  {
   "cell_type": "markdown",
   "id": "1644f88f",
   "metadata": {},
   "source": [
    "# AVA_GRUPO\n",
    "### Exercício 3\n",
    "#### Qual a media final dos alunos cujos parentes (ao menos um) tem nível superior comparada à dos alunos em que nenhum dos pais tem esse tipo de formação."
   ]
  },
  {
   "cell_type": "code",
   "execution_count": null,
   "id": "ac1ab1b1",
   "metadata": {},
   "outputs": [],
   "source": [
    "import pandas as pd\n",
    "\n",
    "# Importando datasets\n",
    "math = pd.read_csv('./student_math_clean.csv')\n",
    "port = pd.read_csv('./student_portuguese_clean.csv')\n",
    "\n",
    "# Função para identificar se pelo menos um dos pais tem nível superior\n",
    "def tem_pai_mae_nivel_superior(row):\n",
    "    return row['mother_education'] == 'higher education' or row['father_education'] == 'higher education'\n",
    "\n",
    "# Aplicando a função para identificar os casos\n",
    "math['tem_pai_mae_nivel_superior'] = math.apply(tem_pai_mae_nivel_superior, axis=1)\n",
    "port['tem_pai_mae_nivel_superior'] = port.apply(tem_pai_mae_nivel_superior, axis=1)\n",
    "\n",
    "# Calculando a média final dos alunos cujos parentes têm nível superior\n",
    "media_final_superior_math = math.loc[math['tem_pai_mae_nivel_superior'], 'final_grade'].mean()\n",
    "media_final_superior_port = port.loc[port['tem_pai_mae_nivel_superior'], 'final_grade'].mean()\n",
    "\n",
    "# Calculando a média final dos alunos em que nenhum dos pais tem nível superior\n",
    "media_final_nao_superior_math = math.loc[~math['tem_pai_mae_nivel_superior'], 'final_grade'].mean()\n",
    "media_final_nao_superior_port = port.loc[~port['tem_pai_mae_nivel_superior'], 'final_grade'].mean()\n",
    "\n",
    "# Imprimindo os resultados\n",
    "print(\"Média Final dos Alunos cujos Parentes têm Nível Superior (Matemática):\", media_final_superior_math)\n",
    "print(\"Média Final dos Alunos sem Parentes com Nível Superior (Matemática):\", media_final_nao_superior_math)\n",
    "\n",
    "print(\"\\nMédia Final dos Alunos cujos Parentes têm Nível Superior (Português):\", media_final_superior_port)\n",
    "print(\"Média Final dos Alunos sem Parentes com Nível Superior (Português):\", media_final_nao_superior_port)"
   ]
  }
 ],
 "metadata": {
  "kernelspec": {
   "display_name": "Python 3 (ipykernel)",
   "language": "python",
   "name": "python3"
  },
  "language_info": {
   "codemirror_mode": {
    "name": "ipython",
    "version": 3
   },
   "file_extension": ".py",
   "mimetype": "text/x-python",
   "name": "python",
   "nbconvert_exporter": "python",
   "pygments_lexer": "ipython3",
   "version": "3.11.5"
  }
 },
 "nbformat": 4,
 "nbformat_minor": 5
}
