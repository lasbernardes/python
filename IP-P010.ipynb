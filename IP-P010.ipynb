{
 "cells": [
  {
   "cell_type": "markdown",
   "metadata": {},
   "source": [
    "<img align=\"center\" style=\"padding-right:10px;\" src=\"Figuras/IP-01-fig_01.png\">\n",
    "\n",
    "# INSTRUÇÃO PRÁTICA - IP-P010\n",
    "## PP - PROGRAMAÇÃO EM PYTHON\n",
    "### OBJETIVOS DA ATIVIDADE\n",
    "\n",
    "Revisar e consolidar o conteúdo de __Pandas__ e visualização de dados avançado."
   ]
  },
  {
   "cell_type": "markdown",
   "metadata": {},
   "source": [
    "__Exercício 1: Gerando o DataFrame__\n",
    "\n",
    "* No link do [Faker](https://faker.readthedocs.io/en/master/#) está disponível a documentação deste pacote que permite gerar dados falsos. Para instalação do pacote basta fazer um"
   ]
  },
  {
   "cell_type": "code",
   "execution_count": null,
   "metadata": {},
   "outputs": [],
   "source": [
    "#pip install faker\n",
    "#python -m faker cpf"
   ]
  },
  {
   "cell_type": "markdown",
   "metadata": {},
   "source": [
    "Desta forma fica disponível o script ``faker`` e o módulo para geração de dados falsos.\n",
    "\n",
    "Utilizando este módulo, fere um data frame contendo as seguintes colunas\n",
    "\n",
    "- CPF;\n",
    "- Nme;\n",
    "- Idade (entre 18 e 28);\n",
    "- Sexo;\n",
    "- Endereço de email;\n",
    "- Nota no ENEM (entre 640 e 800)\n",
    "- Abandono (True o False)\n",
    "- Qual semestre (entre 1 e 8, se Abandono for True)\n",
    "- CRA após o segundo semestre (float entre 5 e 10)\n",
    "- CRA após o quarto semestre (float entre 5 e 10)\n",
    "- CRA após o Sexto semestre (float entre 5 e 10)"
   ]
  },
  {
   "cell_type": "markdown",
   "metadata": {},
   "source": [
    "Com o DataFrame criado, guarde os dados num arquivo ``csv``e envie para um colega."
   ]
  },
  {
   "cell_type": "markdown",
   "metadata": {},
   "source": [
    "Carregue os dados gerados pelo seu colega do arquivo ``csv`` e, com os dados do DataFrame\n",
    "\n",
    "1. Identifique qual q relação de alunos de sexo masculino e feminino no conjunto.\n",
    "2. Dado que os alunos tem idade entre 18 e 28 anos, mostre qual a média da nota do ENEM dos alunos agrupados por idade.\n",
    "3. Normalize as notas do ENEM de todos os alunos para um valor entre 5 e 10.\n",
    "4. Faça um gráfico de evolução das notas, desde o ENEM até CRA do sexto semestre para os 10 alunos com melhor CRA no sexto semestre. Utilize a nota do ENEM normalizada. coloque no gráfico círculos se o aluno for de sexo feminino e quadrados se for masculino.   "
   ]
  },
  {
   "cell_type": "code",
   "execution_count": null,
   "metadata": {},
   "outputs": [],
   "source": []
  }
 ],
 "metadata": {
  "kernelspec": {
   "display_name": "Python 3 (ipykernel)",
   "language": "python",
   "name": "python3"
  },
  "language_info": {
   "codemirror_mode": {
    "name": "ipython",
    "version": 3
   },
   "file_extension": ".py",
   "mimetype": "text/x-python",
   "name": "python",
   "nbconvert_exporter": "python",
   "pygments_lexer": "ipython3",
   "version": "3.11.5"
  }
 },
 "nbformat": 4,
 "nbformat_minor": 2
}
